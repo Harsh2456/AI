{
 "cells": [
  {
   "cell_type": "code",
   "execution_count": 1,
   "id": "dea1ca2e",
   "metadata": {},
   "outputs": [
    {
     "name": "stdout",
     "output_type": "stream",
     "text": [
      "Solution exist and Following are the assigned colours:\n",
      "1 2 3 2 "
     ]
    },
    {
     "data": {
      "text/plain": [
       "True"
      ]
     },
     "execution_count": 1,
     "metadata": {},
     "output_type": "execute_result"
    }
   ],
   "source": [
    "class Graph():\n",
    " \n",
    "    def __init__(self, vertices):\n",
    "        self.V = vertices\n",
    "        self.graph = [[0 for column in range(vertices)]\n",
    "                      for row in range(vertices)]\n",
    " \n",
    "    def isSafe(self, v, colour, c):\n",
    "        for i in range(self.V):\n",
    "            if self.graph[v][i] == 1 and colour[i] == c:\n",
    "                return False\n",
    "        return True\n",
    " \n",
    "    def graphColourUtil(self, m, colour, v):\n",
    "        if v == self.V:\n",
    "            return True\n",
    " \n",
    "        for c in range(1, m + 1):\n",
    "            if self.isSafe(v, colour, c) == True:\n",
    "                colour[v] = c\n",
    "                if self.graphColourUtil(m, colour, v + 1) == True:\n",
    "                    return True\n",
    "                colour[v] = 0\n",
    " \n",
    "    def graphColouring(self, m):\n",
    "        colour = [0] * self.V\n",
    "        if self.graphColourUtil(m, colour, 0) == None:\n",
    "            return False\n",
    " \n",
    "        print(\"Solution exist and Following are the assigned colours:\")\n",
    "        for c in colour:\n",
    "            print(c, end=' ')\n",
    "        return True\n",
    " \n",
    " \n",
    "g = Graph(4)\n",
    "g.graph = [[0, 1, 1, 1], [1, 0, 1, 0], [1, 1, 0, 1], [1, 0, 1, 0]]\n",
    "m = 3\n",
    " \n",
    "g.graphColouring(m)"
   ]
  },
  {
   "cell_type": "code",
   "execution_count": null,
   "id": "bf27e7d4",
   "metadata": {},
   "outputs": [],
   "source": []
  }
 ],
 "metadata": {
  "kernelspec": {
   "display_name": "Python 3 (ipykernel)",
   "language": "python",
   "name": "python3"
  },
  "language_info": {
   "codemirror_mode": {
    "name": "ipython",
    "version": 3
   },
   "file_extension": ".py",
   "mimetype": "text/x-python",
   "name": "python",
   "nbconvert_exporter": "python",
   "pygments_lexer": "ipython3",
   "version": "3.9.7"
  }
 },
 "nbformat": 4,
 "nbformat_minor": 5
}
