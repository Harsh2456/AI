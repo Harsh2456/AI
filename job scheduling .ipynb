{
 "cells": [
  {
   "cell_type": "code",
   "execution_count": 2,
   "id": "5ef30a8f",
   "metadata": {},
   "outputs": [
    {
     "name": "stdout",
     "output_type": "stream",
     "text": [
      "Enter the number of jobs: 4\n",
      "Enter the deadline for job 1: 2\n",
      "Enter the profit for job 1: 8\n",
      "Enter the deadline for job 2: 4\n",
      "Enter the profit for job 2: 2\n",
      "Enter the deadline for job 3: 3\n",
      "Enter the profit for job 3: 7\n",
      "Enter the deadline for job 4: 4\n",
      "Enter the profit for job 4: 8\n",
      "\n",
      "\n",
      "Maximum Profit: 25\n",
      "Scheduled Jobs:\n",
      "Job 1 (Deadline: 2, Profit: 8)\n",
      "Job 4 (Deadline: 4, Profit: 8)\n",
      "Job 3 (Deadline: 3, Profit: 7)\n",
      "Job 2 (Deadline: 4, Profit: 2)\n"
     ]
    }
   ],
   "source": [
    "def job_scheduling(jobs):\n",
    "    jobs.sort(key=lambda x: x[2], reverse=True)\n",
    "\n",
    "    max_deadline = max(jobs, key=lambda x: x[1])[1]\n",
    "    schedule = [-1] * (max_deadline + 1)\n",
    "\n",
    "    total_profit = 0\n",
    "    scheduled_jobs = []\n",
    "\n",
    "    for job in jobs:\n",
    "        job_id, deadline, profit = job\n",
    "        for i in range(deadline, 0, -1):\n",
    "            if schedule[i] == -1:\n",
    "                schedule[i] = job_id\n",
    "                total_profit += profit\n",
    "                scheduled_jobs.append(job)\n",
    "                break\n",
    "\n",
    "    return total_profit, scheduled_jobs\n",
    "\n",
    "def main():\n",
    "    num_jobs = int(input(\"Enter the number of jobs: \"))\n",
    "    jobs = []\n",
    "    for i in range(num_jobs):\n",
    "        job_id = i + 1\n",
    "        deadline = int(input(f\"Enter the deadline for job {job_id}: \"))\n",
    "        profit = int(input(f\"Enter the profit for job {job_id}: \"))\n",
    "        jobs.append((job_id, deadline, profit))\n",
    "\n",
    "    max_profit, scheduled_jobs = job_scheduling(jobs)\n",
    "    print(\"\\n\\nMaximum Profit:\", max_profit)\n",
    "    print(\"Scheduled Jobs:\")\n",
    "    for job in scheduled_jobs:\n",
    "        print(f\"Job {job[0]} (Deadline: {job[1]}, Profit: {job[2]})\")\n",
    "\n",
    "if __name__ == \"__main__\":\n",
    "    main()\n"
   ]
  },
  {
   "cell_type": "code",
   "execution_count": null,
   "id": "9458d309",
   "metadata": {},
   "outputs": [],
   "source": []
  }
 ],
 "metadata": {
  "kernelspec": {
   "display_name": "Python 3 (ipykernel)",
   "language": "python",
   "name": "python3"
  },
  "language_info": {
   "codemirror_mode": {
    "name": "ipython",
    "version": 3
   },
   "file_extension": ".py",
   "mimetype": "text/x-python",
   "name": "python",
   "nbconvert_exporter": "python",
   "pygments_lexer": "ipython3",
   "version": "3.9.7"
  }
 },
 "nbformat": 4,
 "nbformat_minor": 5
}
