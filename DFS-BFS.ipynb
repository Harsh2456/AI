{
 "cells": [
  {
   "cell_type": "code",
   "execution_count": 1,
   "id": "7acb9a13",
   "metadata": {},
   "outputs": [
    {
     "name": "stdout",
     "output_type": "stream",
     "text": [
      "2\n",
      "1\n",
      "3\n",
      "4\n",
      "5\n"
     ]
    }
   ],
   "source": [
    "graph = {\n",
    "    '1' : ['2','3'],\n",
    "    '2' : ['1','4'],\n",
    "    '3' : ['1','4','5'],\n",
    "    '4' : ['2','3'],\n",
    "    '5' : ['3']\n",
    "}\n",
    "\n",
    "visited = set()\n",
    "\n",
    "def dfs(graph,vertex,visited):\n",
    "    if vertex not in visited:\n",
    "        visited.add(vertex)\n",
    "        print(vertex)\n",
    "        for neighbour in graph[vertex]:\n",
    "            dfs(graph,neighbour,visited)\n",
    "\n",
    "#Main Code ->\n",
    "dfs(graph,'2',visited)"
   ]
  },
  {
   "cell_type": "code",
   "execution_count": 2,
   "id": "dc324361",
   "metadata": {},
   "outputs": [
    {
     "name": "stdout",
     "output_type": "stream",
     "text": [
      "2\n",
      "1\n",
      "3\n",
      "4\n",
      "5\n"
     ]
    }
   ],
   "source": [
    "graph = {\n",
    "    '1' : ['2'],\n",
    "    '2' : ['1','3','4'],\n",
    "    '3' : ['2','5'],\n",
    "    '4' : ['2'],\n",
    "    '5' : ['3']\n",
    "}\n",
    "\n",
    "visited = set()\n",
    "\n",
    "def bfs(graph,vertex,visited):\n",
    "    visited.add(vertex)\n",
    "    queue = []\n",
    "    queue.append(vertex)\n",
    "    \n",
    "    while queue:\n",
    "        v = queue.pop(0)\n",
    "        print(v)\n",
    "        \n",
    "        for neighbour in graph[v]:\n",
    "            if neighbour not in visited:\n",
    "                visited.add(neighbour)\n",
    "                queue.append(neighbour)\n",
    "\n",
    "bfs(graph,'2',visited)"
   ]
  },
  {
   "cell_type": "code",
   "execution_count": 5,
   "id": "e6eaa73c",
   "metadata": {
    "scrolled": true
   },
   "outputs": [
    {
     "name": "stdout",
     "output_type": "stream",
     "text": [
      "Enter number of nodes: 4\n",
      "Enter node name: A\n",
      "Enter number of neighbours: 2\n",
      "Enter neighbour: B\n",
      "Enter neighbour: C\n",
      "Enter node name: B\n",
      "Enter number of neighbours: 1\n",
      "Enter neighbour: A\n",
      "Enter node name: C\n",
      "Enter number of neighbours: 1\n",
      "Enter neighbour: D\n",
      "Enter node name: D\n",
      "Enter number of neighbours: 2\n",
      "Enter neighbour: B\n",
      "Enter neighbour: C\n",
      "{'A': ['B', 'C'], 'B': ['A'], 'C': ['D'], 'D': ['B', 'C']}\n",
      "Enter vertex name: A\n",
      "A\n",
      "B\n",
      "C\n",
      "D\n"
     ]
    }
   ],
   "source": [
    "no_of_nodes = int(input(\"Enter number of nodes: \"))\n",
    "\n",
    "graph = {}\n",
    "\n",
    "for i in range(no_of_nodes):\n",
    "    node = input(\"Enter node name: \")\n",
    "    graph[node] = []\n",
    "    no_of_neighb = int(input(\"Enter number of neighbours: \"))\n",
    "    lst = []\n",
    "    for j in range(no_of_neighb):\n",
    "        neighbour = input(\"Enter neighbour: \")\n",
    "        lst.append(neighbour)\n",
    "    graph[node] = lst\n",
    "    \n",
    "print(graph)\n",
    "\n",
    "visited = set()\n",
    "\n",
    "def dfs(graph,vertex,visited):\n",
    "    if vertex not in visited:\n",
    "        visited.add(vertex)\n",
    "        print(vertex)\n",
    "        for neighbour in graph[vertex]:\n",
    "            dfs(graph,neighbour,visited)\n",
    "            \n",
    "v = input(\"Enter vertex name: \")\n",
    "\n",
    "if v in graph:\n",
    "    dfs(graph,v,visited)\n"
   ]
  },
  {
   "cell_type": "code",
   "execution_count": 4,
   "id": "23dcdc0b",
   "metadata": {},
   "outputs": [
    {
     "name": "stdout",
     "output_type": "stream",
     "text": [
      "Enter the number of edges: 7\n",
      "Enter edge (source destination): A B\n",
      "Enter edge (source destination): A C\n",
      "Enter edge (source destination): B D\n",
      "Enter edge (source destination): B E\n",
      "Enter edge (source destination): C F\n",
      "Enter edge (source destination): D E\n",
      "Enter edge (source destination): F C\n",
      "Enter the starting vertex: A\n",
      "\n",
      "DFS Traversal:\n",
      "A B D E C F \n",
      "BFS Traversal:\n",
      "A B C D E F "
     ]
    }
   ],
   "source": [
    "from collections import deque\n",
    "\n",
    "def dfs(graph, vertex, visited):\n",
    "    if vertex not in visited:\n",
    "        print(vertex, end=' ')  \n",
    "        visited.add(vertex)\n",
    "\n",
    "        for neighbor in graph[vertex]:\n",
    "            if neighbor not in visited:\n",
    "                dfs(graph, neighbor, visited)\n",
    "\n",
    "def bfs(graph, start):\n",
    "    visited = set()\n",
    "    queue = deque([start])\n",
    "    visited.add(start)\n",
    "\n",
    "    while queue:\n",
    "        vertex = queue.popleft()\n",
    "        print(vertex, end=' ')  \n",
    "        for neighbor in graph[vertex]:\n",
    "            if neighbor not in visited:\n",
    "                queue.append(neighbor)\n",
    "                visited.add(neighbor)\n",
    "\n",
    "def main():\n",
    "    graph = {}\n",
    "    \n",
    "    \n",
    "    num_edges = int(input(\"Enter the number of edges: \"))\n",
    "    for _ in range(num_edges):\n",
    "        src, dest = input(\"Enter edge (source destination): \").split()\n",
    "        if src not in graph:\n",
    "            graph[src] = []\n",
    "        if dest not in graph:\n",
    "            graph[dest] = []\n",
    "        graph[src].append(dest)\n",
    "        graph[dest].append(src)\n",
    "\n",
    "    \n",
    "    start_vertex = input(\"Enter the starting vertex: \")\n",
    "\n",
    "    \n",
    "    visited = set()\n",
    "\n",
    "    \n",
    "    print(\"\\nDFS Traversal:\")\n",
    "    dfs(graph, start_vertex, visited)\n",
    "\n",
    "    \n",
    "    visited = set()\n",
    "\n",
    "    \n",
    "    print(\"\\nBFS Traversal:\")\n",
    "    bfs(graph, start_vertex)\n",
    "\n",
    "if __name__ == \"__main__\":\n",
    "    main()\n"
   ]
  },
  {
   "cell_type": "code",
   "execution_count": null,
   "id": "42d80e20",
   "metadata": {},
   "outputs": [],
   "source": []
  }
 ],
 "metadata": {
  "kernelspec": {
   "display_name": "Python 3 (ipykernel)",
   "language": "python",
   "name": "python3"
  },
  "language_info": {
   "codemirror_mode": {
    "name": "ipython",
    "version": 3
   },
   "file_extension": ".py",
   "mimetype": "text/x-python",
   "name": "python",
   "nbconvert_exporter": "python",
   "pygments_lexer": "ipython3",
   "version": "3.9.7"
  }
 },
 "nbformat": 4,
 "nbformat_minor": 5
}
