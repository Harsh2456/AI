{
 "cells": [
  {
   "cell_type": "code",
   "execution_count": 2,
   "id": "f19a3fb4",
   "metadata": {},
   "outputs": [
    {
     "name": "stdout",
     "output_type": "stream",
     "text": [
      "Enter the depth of tree: 2\n",
      "Enter value 0: 15\n",
      "Enter value 1: 3\n",
      "Enter value 2: -2\n",
      "Enter value 3: 5\n",
      "The optimal value is : 3\n"
     ]
    }
   ],
   "source": [
    "MAX, MIN = 1000, -1000\n",
    "\n",
    "def minimax(depth, depth_limit, nodeIndex, maximizingPlayer,\n",
    "    values, alpha, beta):\n",
    "\n",
    "\n",
    "    if depth == depth_limit:\n",
    "        return values[nodeIndex]\n",
    "\n",
    "    if maximizingPlayer:\n",
    "    \n",
    "        best = MIN\n",
    "\n",
    "        # Recur for left and right children\n",
    "        for i in range(0, 2):\n",
    "\n",
    "            val = minimax(depth + 1, depth_limit, nodeIndex * 2 + i,\n",
    "                    False, values, alpha, beta)\n",
    "            best = max(best, val)\n",
    "            alpha = max(alpha, best)\n",
    "\n",
    "            # Alpha Beta Pruning\n",
    "            if beta <= alpha:\n",
    "                break\n",
    "\n",
    "        return best\n",
    "\n",
    "    else:\n",
    "        best = MAX\n",
    "\n",
    "        # Recur for left and\n",
    "        # right children\n",
    "        for i in range(0, 2):\n",
    "\n",
    "            val = minimax(depth + 1, depth_limit, nodeIndex * 2 + i,\n",
    "                        True, values, alpha, beta)\n",
    "            best = min(best, val)\n",
    "            beta = min(beta, best)\n",
    "\n",
    "            # Alpha Beta Pruning\n",
    "            if beta <= alpha:\n",
    "                break\n",
    "\n",
    "        return best\n",
    "\n",
    "\n",
    "values = []\n",
    "depth_limit = int(input(\"Enter the depth of tree: \"))\n",
    "for i in range(0,2**depth_limit):\n",
    "    value = int(input(f\"Enter value {i+1}: \"))\n",
    "    values.append(value)\n",
    "\n",
    "print(\"The optimal value is :\", minimax(0, depth_limit, 0, True, values, MIN, MAX))\n",
    "\n"
   ]
  },
  {
   "cell_type": "code",
   "execution_count": null,
   "id": "86594c8d",
   "metadata": {},
   "outputs": [],
   "source": []
  }
 ],
 "metadata": {
  "kernelspec": {
   "display_name": "Python 3 (ipykernel)",
   "language": "python",
   "name": "python3"
  },
  "language_info": {
   "codemirror_mode": {
    "name": "ipython",
    "version": 3
   },
   "file_extension": ".py",
   "mimetype": "text/x-python",
   "name": "python",
   "nbconvert_exporter": "python",
   "pygments_lexer": "ipython3",
   "version": "3.9.7"
  }
 },
 "nbformat": 4,
 "nbformat_minor": 5
}
